{
 "cells": [
  {
   "cell_type": "code",
   "execution_count": 1,
   "metadata": {},
   "outputs": [],
   "source": [
    "from sklearn.naive_bayes import MultinomialNB\n",
    "from sklearn.feature_extraction.text import CountVectorizer\n",
    "from sklearn.feature_extraction.text import TfidfTransformer"
   ]
  },
  {
   "cell_type": "code",
   "execution_count": 2,
   "metadata": {},
   "outputs": [],
   "source": [
    "text = []\n",
    "files = ['canterbury.txt','dante.txt','frankenstein.txt','genesis.txt','homer.txt','ovid.txt']\n",
    "\n",
    "for file in files:\n",
    "    with open('data/'+file,'r', encoding='utf-8', errors='ignore') as b:\n",
    "        text.append(b.read())"
   ]
  },
  {
   "cell_type": "code",
   "execution_count": 4,
   "metadata": {},
   "outputs": [],
   "source": [
    "word_vector = CountVectorizer()\n",
    "word_vector_counts = word_vector.fit_transform(text)\n",
    "term_freq_transformer = TfidfTransformer()\n",
    "term_freq = term_freq_transformer.fit_transform(word_vector_counts)\n",
    "target = [0,1,2,3,4,5]\n",
    "target_names = ['cant','dante','frank','gen','homer','ovid']\n",
    "model = MultinomialNB().fit(term_freq, target)"
   ]
  },
  {
   "cell_type": "code",
   "execution_count": 5,
   "metadata": {},
   "outputs": [],
   "source": [
    "for file in files:\n",
    "    with open('data/'+file,'r', encoding='utf-8', errors='ignore') as b:\n",
    "        text.append(b.read())"
   ]
  },
  {
   "cell_type": "code",
   "execution_count": 6,
   "metadata": {},
   "outputs": [],
   "source": [
    "# procure essays\n",
    "\n",
    "import os\n",
    "\n",
    "names = ['ian','miles']\n",
    "\n",
    "essays = {}\n",
    "\n",
    "for name in names:\n",
    "    essays[name]={} # make dict called a name\n",
    "    for r, d, f in os.walk('./'+name+'/'): # get root, directory, and files from a name\n",
    "        for file in f: # take each file\n",
    "            if '.txt' in file: # if it's a text file\n",
    "                with open(r+file, 'r', encoding='utf-8', errors='ignore') as essay: # open\n",
    "                    essays[name][file.replace(name,'').replace('.txt','')] = essay.read() # place it at essays[name][title]\n",
    "                    \n"
   ]
  },
  {
   "cell_type": "code",
   "execution_count": 21,
   "metadata": {},
   "outputs": [],
   "source": [
    "doc = ''\n",
    "with open('lab1a.txt','r', encoding='utf-8', errors='ignore') as b:\n",
    "    doc = b.read()"
   ]
  },
  {
   "cell_type": "code",
   "execution_count": 26,
   "metadata": {},
   "outputs": [
    {
     "name": "stdout",
     "output_type": "stream",
     "text": [
      "Predictions:\n",
      "\tlab1a => dante\n",
      "Probabilities:\n",
      "cant             dante            frank            gen              homer            ovid             \n",
      "0.1690784        0.17225677       0.16992464       0.14868331       0.16906877       0.1709881        \n"
     ]
    }
   ],
   "source": [
    "labels = ['lab1a']\n",
    "fake_docs = [doc]\n",
    "fake_counts = word_vector.transform(fake_docs)\n",
    "fake_term_freq = term_freq_transformer.transform(fake_counts)\n",
    "\n",
    "predicted = model.predict(fake_term_freq)\n",
    "print('Predictions:')\n",
    "for label, group in zip(labels, predicted):\n",
    "    print('\\t{0} => {1}'.format(label, target_names[group]))\n",
    "\n",
    "probabilities = model.predict_proba(fake_term_freq)\n",
    "print('Probabilities:')\n",
    "print(''.join(['{:17}'.format(name) for name in target_names]))\n",
    "for probs in probabilities:\n",
    "    print(''.join(['{:<17.8}'.format(prob) for prob in probs]))"
   ]
  },
  {
   "cell_type": "code",
   "execution_count": 8,
   "metadata": {},
   "outputs": [
    {
     "data": {
      "text/plain": [
       "dict_keys(['ian', 'miles'])"
      ]
     },
     "execution_count": 8,
     "metadata": {},
     "output_type": "execute_result"
    }
   ],
   "source": [
    "essays.keys()"
   ]
  },
  {
   "cell_type": "code",
   "execution_count": 9,
   "metadata": {},
   "outputs": [
    {
     "data": {
      "text/plain": [
       "dict_keys(['Cant', 'Frank', 'Homer', 'Dante', 'Origin'])"
      ]
     },
     "execution_count": 9,
     "metadata": {},
     "output_type": "execute_result"
    }
   ],
   "source": [
    "essays['ian'].keys()"
   ]
  },
  {
   "cell_type": "code",
   "execution_count": null,
   "metadata": {},
   "outputs": [],
   "source": []
  }
 ],
 "metadata": {
  "kernelspec": {
   "display_name": "Python 3",
   "language": "python",
   "name": "python3"
  },
  "language_info": {
   "codemirror_mode": {
    "name": "ipython",
    "version": 3
   },
   "file_extension": ".py",
   "mimetype": "text/x-python",
   "name": "python",
   "nbconvert_exporter": "python",
   "pygments_lexer": "ipython3",
   "version": "3.7.4"
  }
 },
 "nbformat": 4,
 "nbformat_minor": 2
}
