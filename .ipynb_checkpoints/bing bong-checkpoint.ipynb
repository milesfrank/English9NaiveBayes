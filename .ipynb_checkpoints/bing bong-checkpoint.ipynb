{
 "cells": [
  {
   "cell_type": "code",
   "execution_count": 1,
   "metadata": {},
   "outputs": [],
   "source": [
    "from sklearn.naive_bayes import MultinomialNB\n",
    "from sklearn.feature_extraction.text import CountVectorizer\n",
    "from sklearn.feature_extraction.text import TfidfTransformer"
   ]
  },
  {
   "cell_type": "code",
   "execution_count": 2,
   "metadata": {},
   "outputs": [],
   "source": [
    "text = []\n",
    "files = ['canterbury.txt','dante.txt','frankenstein.txt','genesis.txt','homer.txt','ovid.txt']\n",
    "\n",
    "for file in files:\n",
    "    with open('data/'+file,'r', encoding='utf-8', errors='ignore') as b:\n",
    "        text.append(b.read())"
   ]
  },
  {
   "cell_type": "code",
   "execution_count": 4,
   "metadata": {},
   "outputs": [],
   "source": [
    "word_vector = CountVectorizer()\n",
    "word_vector_counts = word_vector.fit_transform(text)\n",
    "term_freq_transformer = TfidfTransformer()\n",
    "term_freq = term_freq_transformer.fit_transform(word_vector_counts)\n",
    "target = [0,1,2,3,4,5]\n",
    "target_names = ['cant','dante','frank','gen','homer','ovid']\n",
    "model = MultinomialNB().fit(term_freq, target)"
   ]
  },
  {
   "cell_type": "code",
   "execution_count": 5,
   "metadata": {},
   "outputs": [],
   "source": [
    "for file in files:\n",
    "    with open('data/'+file,'r', encoding='utf-8', errors='ignore') as b:\n",
    "        text.append(b.read())"
   ]
  },
  {
   "cell_type": "code",
   "execution_count": 6,
   "metadata": {},
   "outputs": [],
   "source": [
    "# procure essays\n",
    "\n",
    "import os\n",
    "\n",
    "names = ['ian','miles']\n",
    "\n",
    "essays = {}\n",
    "\n",
    "for name in names:\n",
    "    essays[name]={} # make dict called a name\n",
    "    for r, d, f in os.walk('./'+name+'/'): # get root, directory, and files from a name\n",
    "        for file in f: # take each file\n",
    "            if '.txt' in file: # if it's a text file\n",
    "                with open(r+file, 'r', encoding='utf-8', errors='ignore') as essay: # open\n",
    "                    essays[name][file.replace(name,'').replace('.txt','')] = essay.read() # place it at essays[name][title]\n",
    "                    \n"
   ]
  },
  {
   "cell_type": "code",
   "execution_count": 21,
   "metadata": {},
   "outputs": [],
   "source": [
    "heart = ''\n",
    "with open('lab1a.txt','r', encoding='utf-8', errors='ignore') as b:\n",
    "    heart = b.read()"
   ]
  },
  {
   "cell_type": "code",
   "execution_count": 24,
   "metadata": {},
   "outputs": [
    {
     "name": "stdout",
     "output_type": "stream",
     "text": [
      "Predictions:\n",
      "\tLab 1a Write-Up\n",
      "Ian Lum\n",
      "Introduction\n",
      "\t\n",
      "We were tasked with identifying an unknown bacteria by streaking the bacteria on nine agars that hold unique properties, in addition to exposing the bacteria to two antibiotics, ampicillin and chloramphenicol, with water as a control. After the plates incubated for three days, we observed the results.\n",
      "\n",
      "Results\n",
      "\n",
      "\tOf the nine agars, four of them showed growth. Those were bile esculin agar (BEA), chromagar (CHRM), spirit blue, and nutrient agar (LB). Additionally, the growth on chromagar was a peach color and the spirit blue agar was significantly less blue than when the bacteria was added. We checked our plates a week later and noticed growth on phenylethanol agar (PEA), however we are unsure whether the growth is contamination or legitimate growth. For the antibiotics plate, ampicillin was very effective—there was a large area without growth around the ampicillin disk—, chloramphenicol is slightly effective—there was a small circle without growth around the chloramphenicol disk—, and water had no effect.\n",
      "\n",
      "Analysis\n",
      "\n",
      "\tFrom these results, we were able to identify defining characteristics of our unknown bacteria, as well as a few potential bacterias that our unknown could be. The bacteria our unknown is most likely is is Pseudomonas fluorescens. The greatest piece of evidence is our results from chromagar, a peach colored growth. The supplemental information states that Pseudomonas produces cream growth, a similar color to our chromagar growth. Additionally, our spirit blue changed to a much lighter shade of blue, which occurs when spirit blue is exposed to lipase, which P. fluorescens secretes. Finally bile esculin agar inhibits most gram positive bacteria, and P. fluorescens is gram negative.\n",
      "Despite this sum of evidence in favor of P. fluorescens, there is decent evidence that points towards other bacteria. Many of the agar dishes that didn’t show growth suggest that the unknown bacteria is gram positive, such as eosin methylene blue (EMB) and Simmons citrate (simm) which are selective for gram negative and MacConkey’s (MacC) which inhibits gram positive growth. Additionally, phenylethanol Agar (PEA) cultivates gram positive bacteria, and if the growth noticed a week later isn’t contamination, then our unknown is likely gram positive. It was previously mentioned that BEA inhibits most gram positive bacteria, the exception is bile tolerant bacteria, or bacteria that grows in the intestines. Furthermore, ampicillin only affects gram positive and some gram negative bacteria, and our unknown was affected. However, we are skeptical to read too closely into the lack of growth, as there is a high likelihood of human error during the preparation of the bacteria. We only identified two gram positive and bile resistant bacteria, those being Clostridium sporogenes and Sarcina aurantiaca. However, neither C. sporogenes nor S. aurantiaca secrete lipase, contradicting our results from spirit blue. If our unknown bacteria is in fact one of C. sporogenes or S. aurantiaca, our results from both spirit blue and chromagar would be flukes.\n",
      "Though we can draw these two hypotheses, our data is inconclusive. If we are to believe that our unknown is P. fluorescens, we would have to ignore the potential growth on PEA and the lack of growth on EMB, simm, and MacC. If we are to believe that our unknown is one of C. sporogenes and S. aurantiaca, we would have to ignore the results from spirit blue and chromagar.\n",
      "\n",
      "Source of Error\n",
      "\n",
      "\tMuch of the uncertainty in the analysis is likely due to error during the experiment. This error could be improper sterile technique, improper streaking, or even forgetting to add bacteria to certain dishes. Especially as this is our first experiment of the year and first time using many of these instruments, we are inexperienced and much more prone to making mistakes.\n",
      "\n",
      "Conclusion\n",
      "\n",
      "\tOur unknown bacteria is most likely the gram negative and lipase secreting Pseudomonas fluorescens, or one of the two gram positive and bile resistant Clostridium sporogenes or Sarcina aurantiaca. These conclusions were drawn from the color of chromagar and spirit blue, the growth on BEA, the potential growth on PEA, the effectiveness of ampicillin, and the lack of growth on EMB, simm, and MacC. However, much of the data is contradictory and likely tainted by human error during the preparation of the bacteria on the agar.\n",
      "\n",
      "\n",
      "Works Cited\n",
      "\n",
      "Pseudomonas fluorescens. (n.d.). Retrieved from https://microbewiki.kenyon.edu/index.php/Pseudomonas_fluorescens\n",
      " => dante\n",
      "Probabilities:\n",
      "cant             dante            frank            gen              homer            ovid             \n",
      "0.1690784        0.17225677       0.16992464       0.14868331       0.16906877       0.1709881        \n"
     ]
    }
   ],
   "source": [
    "labels = \n",
    "fake_docs = [heart]\n",
    "fake_counts = word_vector.transform(fake_docs)\n",
    "fake_term_freq = term_freq_transformer.transform(fake_counts)\n",
    "\n",
    "predicted = model.predict(fake_term_freq)\n",
    "print('Predictions:')\n",
    "for doc, group in zip(fake_docs, predicted):\n",
    "    print('\\t{0} => {1}'.format(doc, target_names[group]))\n",
    "\n",
    "probabilities = model.predict_proba(fake_term_freq)\n",
    "print('Probabilities:')\n",
    "print(''.join(['{:17}'.format(name) for name in target_names]))\n",
    "for probs in probabilities:\n",
    "    print(''.join(['{:<17.8}'.format(prob) for prob in probs]))"
   ]
  },
  {
   "cell_type": "code",
   "execution_count": 8,
   "metadata": {},
   "outputs": [
    {
     "data": {
      "text/plain": [
       "dict_keys(['ian', 'miles'])"
      ]
     },
     "execution_count": 8,
     "metadata": {},
     "output_type": "execute_result"
    }
   ],
   "source": [
    "essays.keys()"
   ]
  },
  {
   "cell_type": "code",
   "execution_count": 9,
   "metadata": {},
   "outputs": [
    {
     "data": {
      "text/plain": [
       "dict_keys(['Cant', 'Frank', 'Homer', 'Dante', 'Origin'])"
      ]
     },
     "execution_count": 9,
     "metadata": {},
     "output_type": "execute_result"
    }
   ],
   "source": [
    "essays['ian'].keys()"
   ]
  },
  {
   "cell_type": "code",
   "execution_count": null,
   "metadata": {},
   "outputs": [],
   "source": []
  }
 ],
 "metadata": {
  "kernelspec": {
   "display_name": "Python 3",
   "language": "python",
   "name": "python3"
  },
  "language_info": {
   "codemirror_mode": {
    "name": "ipython",
    "version": 3
   },
   "file_extension": ".py",
   "mimetype": "text/x-python",
   "name": "python",
   "nbconvert_exporter": "python",
   "pygments_lexer": "ipython3",
   "version": "3.7.4"
  }
 },
 "nbformat": 4,
 "nbformat_minor": 2
}
